{
 "cells": [
  {
   "cell_type": "code",
   "id": "initial_id",
   "metadata": {
    "collapsed": true,
    "ExecuteTime": {
     "end_time": "2024-05-04T07:22:42.722006Z",
     "start_time": "2024-05-04T07:22:42.718005Z"
    }
   },
   "source": [
    "from helpers.log_config import setup_logging\n",
    "setup_logging()\n",
    "\n",
    "import numpy as np\n",
    "import pandas as pd\n",
    "from swmm_api.output_file.extract import SwmmOutExtractWarning\n",
    "import warnings\n",
    "from apps.blockage_sim import sim_blockage\n",
    "import matplotlib.pyplot as plt\n",
    "\n",
    "warnings.filterwarnings(\"ignore\", category=SwmmOutExtractWarning)"
   ],
   "outputs": [],
   "execution_count": 15
  },
  {
   "metadata": {},
   "cell_type": "markdown",
   "source": [
    "# Input Data\n",
    "## Input files\n",
    "please insert model- and output-paths here"
   ],
   "id": "81bbdbb6716eac0c"
  },
  {
   "metadata": {
    "ExecuteTime": {
     "end_time": "2024-05-04T07:22:51.812540Z",
     "start_time": "2024-05-04T07:22:51.791020Z"
    }
   },
   "cell_type": "code",
   "source": [
    "# model input and output files\n",
    "model_path = r\"..\\sample_data\\simple_model.inp\"\n",
    "out_path = r\"..\\sample_data\\simple_model.out\"\n",
    "# population data\n",
    "pop_path = r\"../sample_data/pop_data_simple.csv\"\n",
    "df_population = pd.read_csv(pop_path)"
   ],
   "id": "848406780e2ce197",
   "outputs": [],
   "execution_count": 16
  },
  {
   "metadata": {},
   "cell_type": "markdown",
   "source": [
    "## Input patterns\n",
    "define the defecation pattern / how many flushes containing wipes per hour are usually done\n",
    "and define how many wipes are usually flushed per event"
   ],
   "id": "31f800d04f7f1d9d"
  },
  {
   "metadata": {
    "ExecuteTime": {
     "end_time": "2024-05-03T14:01:35.859985Z",
     "start_time": "2024-05-03T14:01:35.845983Z"
    }
   },
   "cell_type": "code",
   "source": [
    "# pattern for distribution of defecation events, total sum of 1.5 defecations per day\n",
    "df_defpat = pd.Series(1.5 * np.array([1.4, 0.3, 0.1, 0.0, 0.3, 1.7, 9.1, 21, 13, 9, 6.9, 4.9,\n",
    "                                     1.9, 3.6, 2.5, 2, 2.9, 2.3, 4.1, 4.0, 2.7, 2.1, 2.2, 2.0])/100)\n",
    "# number of wipes sent per flush\n",
    "wipes_per_flush = 5"
   ],
   "id": "dbe8c724e8dc9e13",
   "outputs": [],
   "execution_count": 4
  },
  {
   "metadata": {},
   "cell_type": "markdown",
   "source": [
    "## Snagging function\n",
    "define the function that determines with what probability a packet snags depending on the velocity in the pipe"
   ],
   "id": "b3e3ba72528e6152"
  },
  {
   "metadata": {
    "ExecuteTime": {
     "end_time": "2024-05-03T14:01:35.875250Z",
     "start_time": "2024-05-03T14:01:35.860978Z"
    }
   },
   "cell_type": "code",
   "source": "probability_by_velocity = lambda v: 0.1",
   "id": "ddc8fc80ddc97207",
   "outputs": [],
   "execution_count": 5
  },
  {
   "metadata": {},
   "cell_type": "markdown",
   "source": [
    "## Blocking function\n",
    "Define the blockage / opening of conduit depending on pile size\n",
    "\n",
    "create a function that returns the target setting of a conduit depending on the number of snagged wipes "
   ],
   "id": "495ade91d63ff1a6"
  },
  {
   "metadata": {
    "ExecuteTime": {
     "end_time": "2024-05-03T14:01:35.890976Z",
     "start_time": "2024-05-03T14:01:35.877251Z"
    }
   },
   "cell_type": "code",
   "source": "blockage_from_pile = lambda pile: (pile / (2+pile))",
   "id": "e559d8456590d249",
   "outputs": [],
   "execution_count": 6
  },
  {
   "metadata": {},
   "cell_type": "markdown",
   "source": [
    "## Simulation settings\n",
    "define the node of interest at which snagging occurs\n",
    "define the decay rate of the pile\n",
    "define how often the simulation should be updated with the next pile size and blockage setting"
   ],
   "id": "24048693f63ce76b"
  },
  {
   "metadata": {
    "ExecuteTime": {
     "end_time": "2024-05-03T14:01:35.906976Z",
     "start_time": "2024-05-03T14:01:35.894980Z"
    }
   },
   "cell_type": "code",
   "source": [
    "target_node = \"MH3329503824\",\n",
    "decay_rate = lambda flow, pile, hour: 0.1\n",
    "pile_decay_rate = decay_rate,  # 1/hr\n",
    "update_freq = \"10H\""
   ],
   "id": "f9aee15ccb0759fe",
   "outputs": [],
   "execution_count": 7
  },
  {
   "metadata": {},
   "cell_type": "markdown",
   "source": [
    "# Runner\n",
    "This cell runs the model, interrupts in defined intervals, reads output data and adapts the model parameters"
   ],
   "id": "915c243d43dfbb6f"
  },
  {
   "metadata": {
    "ExecuteTime": {
     "end_time": "2024-05-03T14:01:35.923006Z",
     "start_time": "2024-05-03T14:01:35.915975Z"
    }
   },
   "cell_type": "code",
   "source": [
    "# combines all information into a dict to pass as an argument\n",
    "simulation_dict = dict(\n",
    "    model_path=model_path,\n",
    "    out_path=out_path,\n",
    "    pop_path=pop_path,\n",
    "    defpat=df_defpat,\n",
    "    wipes_per_flush=wipes_per_flush,\n",
    "    probability_by_velocity=probability_by_velocity,\n",
    "    blockage_from_pile=blockage_from_pile,\n",
    "    target_node = \"MH3295504178\",\n",
    "    pile_decay_rate = 0.1,  # 1/hr\n",
    "    update_freq = \"10H\"\n",
    ")"
   ],
   "id": "49d8b8a006e382fa",
   "outputs": [],
   "execution_count": 8
  },
  {
   "metadata": {
    "ExecuteTime": {
     "end_time": "2024-05-03T14:04:41.120549Z",
     "start_time": "2024-05-03T14:04:40.716633Z"
    }
   },
   "cell_type": "code",
   "source": [
    "# run blockage simulation\n",
    "sim_blockage(**simulation_dict)"
   ],
   "id": "438a67150a96c779",
   "outputs": [
    {
     "data": {
      "text/plain": [
       "  0%|          | 0/4 [00:00<?, ?it/s]"
      ],
      "application/vnd.jupyter.widget-view+json": {
       "version_major": 2,
       "version_minor": 0,
       "model_id": "a01dffc3b2d348598a102ae701786090"
      }
     },
     "metadata": {},
     "output_type": "display_data"
    },
    {
     "data": {
      "text/plain": [
       "0it [00:00, ?it/s]"
      ],
      "application/vnd.jupyter.widget-view+json": {
       "version_major": 2,
       "version_minor": 0,
       "model_id": "b6c650fd72564b81bae9caae300be0d2"
      }
     },
     "metadata": {},
     "output_type": "display_data"
    }
   ],
   "execution_count": 13
  },
  {
   "metadata": {},
   "cell_type": "markdown",
   "source": "# Evaluation",
   "id": "c8b9d5553651efc4"
  },
  {
   "metadata": {
    "ExecuteTime": {
     "end_time": "2024-05-03T14:01:36.413659Z",
     "start_time": "2024-05-03T14:01:36.399654Z"
    }
   },
   "cell_type": "code",
   "source": [
    "from swmm_api import read_out_file\n",
    "from swmm_api.output_file import VARIABLES as swmm_vars\n",
    "from swmm_api.output_file import OBJECTS as swmm_objs"
   ],
   "id": "23bf0619e08dffe6",
   "outputs": [],
   "execution_count": 10
  },
  {
   "metadata": {},
   "cell_type": "markdown",
   "source": "## get pile size over time",
   "id": "9b5008e02085930f"
  },
  {
   "metadata": {
    "ExecuteTime": {
     "end_time": "2024-05-04T08:19:11.000061Z",
     "start_time": "2024-05-04T08:19:10.984544Z"
    }
   },
   "cell_type": "code",
   "source": [
    "out = read_out_file(out_path)\n",
    "df_flows = out.get_part(kind=swmm_objs.LINK, variable=swmm_vars.LINK.FLOW)\n",
    "df_velocities = out.get_part(kind=swmm_objs.LINK, variable=swmm_vars.LINK.VELOCITY)"
   ],
   "id": "2e006932d73d70ce",
   "outputs": [],
   "execution_count": 50
  },
  {
   "metadata": {
    "ExecuteTime": {
     "end_time": "2024-05-04T08:19:11.785964Z",
     "start_time": "2024-05-04T08:19:11.468390Z"
    }
   },
   "cell_type": "code",
   "source": [
    "fig, ax = plt.subplots()\n",
    "df_flows[\"MH3295504178.1\"].plot(label=\"flow rate\", ax=ax)\n",
    "ax.set_ylabel(\"flow rate [L/s]\")\n",
    "# ax2 = ax.twinx()\n",
    "# df_velocities[\"MH3295504178.1\"].plot(label=\"velocities\", ax=ax2)\n",
    "# ax2.set_ylabel(\"velocities [m/s]\")"
   ],
   "id": "5437c80fd7d2efba",
   "outputs": [
    {
     "data": {
      "text/plain": [
       "Text(0, 0.5, 'flow rate [L/s]')"
      ]
     },
     "execution_count": 51,
     "metadata": {},
     "output_type": "execute_result"
    },
    {
     "data": {
      "text/plain": [
       "<Figure size 640x480 with 1 Axes>"
      ],
      "image/png": "[encoded data removed]"
     },
     "metadata": {},
     "output_type": "display_data"
    }
   ],
   "execution_count": 51
  },
  {
   "metadata": {
    "ExecuteTime": {
     "end_time": "2024-05-04T08:19:13.015614Z",
     "start_time": "2024-05-04T08:19:12.698481Z"
    }
   },
   "cell_type": "code",
   "source": [
    "columns = [\"log_time\", \"logger\", \"level\", \"sim_time\", \"variable\", \"value\"]\n",
    "df_log = pd.read_csv(r\"../helpers/application.log\", sep=\";\", skiprows=15)\n",
    "df_log.columns = columns\n",
    "# df_log[\"log_time\"] = pd.to_datetime(df_log[\"log_time\"])\n",
    "df_pile_size = df_log.loc[df_log[\"variable\"]==\"pile size\", [\"sim_time\", \"value\"]]\n",
    "df_pile_size[\"sim_time\"] = pd.to_datetime(df_pile_size[\"sim_time\"])\n",
    "\n",
    "fig, ax = plt.subplots()\n",
    "df_pile_size.set_index(\"sim_time\").plot(ax=ax)\n",
    "ax.set_xlim([df_flows.index[0], df_flows.index[-1]])"
   ],
   "id": "351cbb964cb0a920",
   "outputs": [
    {
     "data": {
      "text/plain": [
       "(16526.000694444443, 16528.0)"
      ]
     },
     "execution_count": 52,
     "metadata": {},
     "output_type": "execute_result"
    },
    {
     "data": {
      "text/plain": [
       "<Figure size 640x480 with 1 Axes>"
      ],
      "image/png": "[encoded data removed]"
     },
     "metadata": {},
     "output_type": "display_data"
    }
   ],
   "execution_count": 52
  },
  {
   "metadata": {
    "ExecuteTime": {
     "end_time": "2024-05-04T08:02:54.406548Z",
     "start_time": "2024-05-04T08:02:54.392543Z"
    }
   },
   "cell_type": "code",
   "source": "df_flows.index[-1]",
   "id": "fff9624edd3482d4",
   "outputs": [
    {
     "data": {
      "text/plain": [
       "Timestamp('2015-04-02 16:00:00', freq='T')"
      ]
     },
     "execution_count": 42,
     "metadata": {},
     "output_type": "execute_result"
    }
   ],
   "execution_count": 42
  },
  {
   "metadata": {},
   "cell_type": "code",
   "outputs": [],
   "execution_count": null,
   "source": "",
   "id": "6f28d78378fa2c9f"
  }
 ],
 "metadata": {
  "kernelspec": {
   "display_name": "Python 3",
   "language": "python",
   "name": "python3"
  },
  "language_info": {
   "codemirror_mode": {
    "name": "ipython",
    "version": 2
   },
   "file_extension": ".py",
   "mimetype": "text/x-python",
   "name": "python",
   "nbconvert_exporter": "python",
   "pygments_lexer": "ipython2",
   "version": "2.7.6"
  }
 },
 "nbformat": 4,
 "nbformat_minor": 5
}
