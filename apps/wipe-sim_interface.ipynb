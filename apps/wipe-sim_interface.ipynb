{
 "cells": [
  {
   "cell_type": "code",
   "id": "initial_id",
   "metadata": {
    "collapsed": true,
    "ExecuteTime": {
     "end_time": "2024-04-11T07:14:31.998744Z",
     "start_time": "2024-04-11T07:14:28.902173Z"
    }
   },
   "source": [
    "import numpy as np\n",
    "import pandas as pd\n",
    "from swmm_api.output_file.extract import SwmmOutExtractWarning\n",
    "import warnings\n",
    "from apps.blockage_sim import sim_blockage\n",
    "\n",
    "warnings.filterwarnings(\"ignore\", category=SwmmOutExtractWarning)"
   ],
   "outputs": [],
   "execution_count": 1
  },
  {
   "metadata": {},
   "cell_type": "markdown",
   "source": [
    "# Input Data\n",
    "## Input files\n",
    "please insert model- and output-paths here"
   ],
   "id": "81bbdbb6716eac0c"
  },
  {
   "metadata": {
    "ExecuteTime": {
     "end_time": "2024-04-11T07:14:32.013749Z",
     "start_time": "2024-04-11T07:14:32.000750Z"
    }
   },
   "cell_type": "code",
   "source": [
    "# model input and output files\n",
    "model_path = r\"..\\sample_data\\sample_model.inp\"\n",
    "out_path = r\"..\\sample_data\\sample_model.out\"\n",
    "# population data\n",
    "pop_path = r\"../sample_data/pop_data.csv\"\n",
    "df_population = pd.read_csv(pop_path)"
   ],
   "id": "848406780e2ce197",
   "outputs": [],
   "execution_count": 2
  },
  {
   "metadata": {},
   "cell_type": "markdown",
   "source": [
    "## Input patterns\n",
    "define the defecation pattern / how many flushes containing wipes per hour are usually done\n",
    "and define how many wipes are usually flushed per event"
   ],
   "id": "31f800d04f7f1d9d"
  },
  {
   "metadata": {
    "ExecuteTime": {
     "end_time": "2024-04-11T07:14:32.028749Z",
     "start_time": "2024-04-11T07:14:32.015759Z"
    }
   },
   "cell_type": "code",
   "source": [
    "# pattern for distribution of defecation events, total sum of 1.5 defecations per day\n",
    "df_defpat = pd.Series(1.5 * np.array([1.4, 0.3, 0.1, 0.0, 0.3, 1.7, 9.1, 21, 13, 9, 6.9, 4.9,\n",
    "                                     1.9, 3.6, 2.5, 2, 2.9, 2.3, 4.1, 4.0, 2.7, 2.1, 2.2, 2.0])/100)\n",
    "# number of wipes sent per flush\n",
    "wipes_per_flush = 5"
   ],
   "id": "dbe8c724e8dc9e13",
   "outputs": [],
   "execution_count": 3
  },
  {
   "metadata": {},
   "cell_type": "markdown",
   "source": [
    "## Snagging function\n",
    "define the function that determines with what probability a packet snags depending on the velocity in the pipe"
   ],
   "id": "b3e3ba72528e6152"
  },
  {
   "metadata": {
    "ExecuteTime": {
     "end_time": "2024-04-11T15:27:12.214558Z",
     "start_time": "2024-04-11T15:27:12.176546Z"
    }
   },
   "cell_type": "code",
   "source": "probability_by_velocity = lambda v: 0.5",
   "id": "ddc8fc80ddc97207",
   "outputs": [],
   "execution_count": 48
  },
  {
   "metadata": {},
   "cell_type": "markdown",
   "source": [
    "## Blocking function\n",
    "Define the blockage / opening of conduit depending on pile size\n",
    "\n",
    "create a function that returns the target setting of a conduit depending on the number of snagged wipes "
   ],
   "id": "495ade91d63ff1a6"
  },
  {
   "metadata": {
    "ExecuteTime": {
     "end_time": "2024-04-11T07:14:32.060387Z",
     "start_time": "2024-04-11T07:14:32.046754Z"
    }
   },
   "cell_type": "code",
   "source": "blockage_from_pile = lambda pile: pile / (20+pile)",
   "id": "e559d8456590d249",
   "outputs": [],
   "execution_count": 5
  },
  {
   "metadata": {},
   "cell_type": "markdown",
   "source": [
    "## Simulation settings\n",
    "define the node of interest at which snagging occurs\n",
    "define the decay rate of the pile\n",
    "define how often the simulation should be updated with the next pile size and blockage setting"
   ],
   "id": "24048693f63ce76b"
  },
  {
   "metadata": {},
   "cell_type": "code",
   "outputs": [],
   "execution_count": null,
   "source": [
    "target_node = \"MH3329503824\",\n",
    "pile_decay_rate = 0.1,  # 1/hr\n",
    "update_freq = \"10H\""
   ],
   "id": "f9aee15ccb0759fe"
  },
  {
   "metadata": {},
   "cell_type": "markdown",
   "source": [
    "# Runner\n",
    "This cell runs the model, interrupts in defined intervals, reads output data and adapts the model parameters"
   ],
   "id": "915c243d43dfbb6f"
  },
  {
   "metadata": {
    "ExecuteTime": {
     "end_time": "2024-04-11T08:33:44.577939Z",
     "start_time": "2024-04-11T08:33:44.570423Z"
    }
   },
   "cell_type": "code",
   "source": [
    "# combines all information into a dict to pass as an argument\n",
    "simulation_dict = dict(\n",
    "    model_path=model_path,\n",
    "    out_path=out_path,\n",
    "    pop_path=pop_path,\n",
    "    defpat=df_defpat,\n",
    "    wipes_per_flush=wipes_per_flush,\n",
    "    probability_by_velocity=probability_by_velocity,\n",
    "    blockage_from_pile=blockage_from_pile,\n",
    ")"
   ],
   "id": "49d8b8a006e382fa",
   "outputs": [],
   "execution_count": 34
  },
  {
   "metadata": {},
   "cell_type": "code",
   "outputs": [],
   "execution_count": null,
   "source": [
    "# run blockage simulation\n",
    "sim_blockage(**simulation_dict)"
   ],
   "id": "438a67150a96c779"
  }
 ],
 "metadata": {
  "kernelspec": {
   "display_name": "Python 3",
   "language": "python",
   "name": "python3"
  },
  "language_info": {
   "codemirror_mode": {
    "name": "ipython",
    "version": 2
   },
   "file_extension": ".py",
   "mimetype": "text/x-python",
   "name": "python",
   "nbconvert_exporter": "python",
   "pygments_lexer": "ipython2",
   "version": "2.7.6"
  }
 },
 "nbformat": 4,
 "nbformat_minor": 5
}
