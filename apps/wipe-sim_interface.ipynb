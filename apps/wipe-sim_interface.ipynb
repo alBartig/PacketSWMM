{
 "cells": [
  {
   "cell_type": "code",
   "id": "initial_id",
   "metadata": {
    "collapsed": true,
    "ExecuteTime": {
     "end_time": "2024-05-04T07:22:42.722006Z",
     "start_time": "2024-05-04T07:22:42.718005Z"
    }
   },
   "source": [
    "from helpers.log_config import setup_logging\n",
    "setup_logging()\n",
    "\n",
    "import numpy as np\n",
    "import pandas as pd\n",
    "from swmm_api.output_file.extract import SwmmOutExtractWarning\n",
    "import warnings\n",
    "from apps.blockage_sim import sim_blockage\n",
    "import matplotlib.pyplot as plt\n",
    "\n",
    "warnings.filterwarnings(\"ignore\", category=SwmmOutExtractWarning)"
   ],
   "execution_count": 15,
   "outputs": []
  },
  {
   "metadata": {},
   "cell_type": "markdown",
   "source": [
    "# Input Data\n",
    "## Input files\n",
    "please insert model- and output-paths here"
   ],
   "id": "81bbdbb6716eac0c"
  },
  {
   "metadata": {
    "ExecuteTime": {
     "end_time": "2024-05-04T07:22:51.812540Z",
     "start_time": "2024-05-04T07:22:51.791020Z"
    }
   },
   "cell_type": "code",
   "source": [
    "# model input and output files\n",
    "model_path = r\"..\\sample_data\\simple_model.inp\"\n",
    "out_path = r\"..\\sample_data\\simple_model.out\"\n",
    "# population data\n",
    "pop_path = r\"../sample_data/pop_data_simple.csv\"\n",
    "df_population = pd.read_csv(pop_path)"
   ],
   "id": "848406780e2ce197",
   "execution_count": 16,
   "outputs": []
  },
  {
   "metadata": {},
   "cell_type": "markdown",
   "source": [
    "## Input patterns\n",
    "define the defecation pattern / how many flushes containing wipes per hour are usually done\n",
    "and define how many wipes are usually flushed per event"
   ],
   "id": "31f800d04f7f1d9d"
  },
  {
   "metadata": {
    "ExecuteTime": {
     "end_time": "2024-05-03T14:01:35.859985Z",
     "start_time": "2024-05-03T14:01:35.845983Z"
    }
   },
   "cell_type": "code",
   "source": [
    "# pattern for distribution of defecation events, total sum of 1.5 defecations per day\n",
    "df_defpat = pd.Series(1.5 * np.array([1.4, 0.3, 0.1, 0.0, 0.3, 1.7, 9.1, 21, 13, 9, 6.9, 4.9,\n",
    "                                     1.9, 3.6, 2.5, 2, 2.9, 2.3, 4.1, 4.0, 2.7, 2.1, 2.2, 2.0])/100)\n",
    "# number of wipes sent per flush\n",
    "wipes_per_flush = 5"
   ],
   "id": "dbe8c724e8dc9e13",
   "execution_count": 4,
   "outputs": []
  },
  {
   "metadata": {},
   "cell_type": "markdown",
   "source": [
    "## Snagging function\n",
    "define the function that determines with what probability a packet snags depending on the velocity in the pipe"
   ],
   "id": "b3e3ba72528e6152"
  },
  {
   "metadata": {
    "ExecuteTime": {
     "end_time": "2024-05-03T14:01:35.875250Z",
     "start_time": "2024-05-03T14:01:35.860978Z"
    }
   },
   "cell_type": "code",
   "source": "probability_by_velocity = lambda v: 0.1",
   "id": "ddc8fc80ddc97207",
   "execution_count": 5,
   "outputs": []
  },
  {
   "metadata": {},
   "cell_type": "markdown",
   "source": [
    "## Blocking function\n",
    "Define the blockage / opening of conduit depending on pile size\n",
    "\n",
    "create a function that returns the target setting of a conduit depending on the number of snagged wipes "
   ],
   "id": "495ade91d63ff1a6"
  },
  {
   "metadata": {
    "ExecuteTime": {
     "end_time": "2024-05-03T14:01:35.890976Z",
     "start_time": "2024-05-03T14:01:35.877251Z"
    }
   },
   "cell_type": "code",
   "source": "blockage_from_pile = lambda pile: (pile / (2+pile))",
   "id": "e559d8456590d249",
   "execution_count": 6,
   "outputs": []
  },
  {
   "metadata": {},
   "cell_type": "markdown",
   "source": [
    "## Simulation settings\n",
    "define the node of interest at which snagging occurs\n",
    "define the decay rate of the pile\n",
    "define how often the simulation should be updated with the next pile size and blockage setting"
   ],
   "id": "24048693f63ce76b"
  },
  {
   "metadata": {
    "ExecuteTime": {
     "end_time": "2024-05-03T14:01:35.906976Z",
     "start_time": "2024-05-03T14:01:35.894980Z"
    }
   },
   "cell_type": "code",
   "source": [
    "target_node = \"MH3329503824\",\n",
    "decay_rate = lambda flow, pile, hour: 0.1\n",
    "pile_decay_rate = decay_rate,  # 1/hr\n",
    "update_freq = \"10H\""
   ],
   "id": "f9aee15ccb0759fe",
   "execution_count": 7,
   "outputs": []
  },
  {
   "metadata": {},
   "cell_type": "markdown",
   "source": [
    "# Runner\n",
    "This cell runs the model, interrupts in defined intervals, reads output data and adapts the model parameters"
   ],
   "id": "915c243d43dfbb6f"
  },
  {
   "metadata": {
    "ExecuteTime": {
     "end_time": "2024-05-03T14:01:35.923006Z",
     "start_time": "2024-05-03T14:01:35.915975Z"
    }
   },
   "cell_type": "code",
   "source": [
    "# combines all information into a dict to pass as an argument\n",
    "simulation_dict = dict(\n",
    "    model_path=model_path,\n",
    "    out_path=out_path,\n",
    "    pop_path=pop_path,\n",
    "    defpat=df_defpat,\n",
    "    wipes_per_flush=wipes_per_flush,\n",
    "    probability_by_velocity=probability_by_velocity,\n",
    "    blockage_from_pile=blockage_from_pile,\n",
    "    target_node = \"MH3295504178\",\n",
    "    pile_decay_rate = 0.1,  # 1/hr\n",
    "    update_freq = \"10H\"\n",
    ")"
   ],
   "id": "49d8b8a006e382fa",
   "execution_count": 8,
   "outputs": []
  },
  {
   "metadata": {
    "ExecuteTime": {
     "end_time": "2024-05-03T14:04:41.120549Z",
     "start_time": "2024-05-03T14:04:40.716633Z"
    }
   },
   "cell_type": "code",
   "source": [
    "# run blockage simulation\n",
    "sim_blockage(**simulation_dict)"
   ],
   "id": "438a67150a96c779",
   "execution_count": 13,
   "outputs": []
  },
  {
   "metadata": {},
   "cell_type": "markdown",
   "source": "# Evaluation",
   "id": "c8b9d5553651efc4"
  },
  {
   "metadata": {
    "ExecuteTime": {
     "end_time": "2024-05-03T14:01:36.413659Z",
     "start_time": "2024-05-03T14:01:36.399654Z"
    }
   },
   "cell_type": "code",
   "source": [
    "from swmm_api import read_out_file\n",
    "from swmm_api.output_file import VARIABLES as swmm_vars\n",
    "from swmm_api.output_file import OBJECTS as swmm_objs"
   ],
   "id": "23bf0619e08dffe6",
   "execution_count": 10,
   "outputs": []
  },
  {
   "metadata": {},
   "cell_type": "markdown",
   "source": "## get pile size over time",
   "id": "9b5008e02085930f"
  },
  {
   "metadata": {
    "ExecuteTime": {
     "end_time": "2024-05-06T15:06:17.007520Z",
     "start_time": "2024-05-06T15:06:16.984513Z"
    }
   },
   "cell_type": "code",
   "source": [
    "out = read_out_file(out_path)\n",
    "df_flows = out.get_part(kind=swmm_objs.LINK, variable=swmm_vars.LINK.FLOW)\n",
    "df_velocities = out.get_part(kind=swmm_objs.LINK, variable=swmm_vars.LINK.VELOCITY)"
   ],
   "id": "2e006932d73d70ce",
   "execution_count": 104,
   "outputs": []
  },
  {
   "metadata": {
    "ExecuteTime": {
     "end_time": "2024-05-06T15:06:17.668282Z",
     "start_time": "2024-05-06T15:06:17.431776Z"
    }
   },
   "cell_type": "code",
   "source": [
    "fig, ax = plt.subplots()\n",
    "df_flows[\"MH3295504178.1\"].plot(label=\"flow rate\", ax=ax)\n",
    "ax.set_ylabel(\"flow rate [L/s]\")\n",
    "# ax2 = ax.twinx()\n",
    "# df_velocities[\"MH3295504178.1\"].plot(label=\"velocities\", ax=ax2)\n",
    "# ax2.set_ylabel(\"velocities [m/s]\")"
   ],
   "id": "5437c80fd7d2efba",
   "execution_count": 105,
   "outputs": []
  },
  {
   "metadata": {
    "ExecuteTime": {
     "end_time": "2024-05-06T14:58:57.363764Z",
     "start_time": "2024-05-06T14:58:56.835187Z"
    }
   },
   "cell_type": "code",
   "source": [
    "fig, axs = plt.subplots(ncols=2)\n",
    "df_flows.loc[\"2015-04-02 00:00\":\"2015-04-02 00:05\",\"MH3295504178.1\"].plot(marker=\"o\", ax=axs[0])\n",
    "times = pd.to_datetime([\"2015-04-02 00:00:10\", \"2015-04-02 00:01:30\", \"2015-04-02 00:02:50\", \"2015-04-02 00:03:50\"])\n",
    "flows = np.interp(times.astype(np.int64).values/1e9, df_flows[\"MH3295504178.1\"].index.astype(np.int64)/1e9, df_flows[\"MH3295504178.1\"].values)\n",
    "df_interp = pd.DataFrame(flows, index=times)\n",
    "df_interp.plot(ax=axs[1], color=\"tab:red\", marker=\"x\", markersize=20, zorder=20\n",
    "# plt.scatter(times, 9.07*np.ones([4]), color=\"tab:red\")"
   ],
   "id": "e2d4f1dc99da1f35",
   "execution_count": 103,
   "outputs": []
  },
  {
   "metadata": {},
   "cell_type": "code",
   "execution_count": null,
   "source": "",
   "id": "52f3477362d330a2",
   "outputs": []
  },
  {
   "metadata": {
    "ExecuteTime": {
     "end_time": "2024-05-06T14:40:46.297159Z",
     "start_time": "2024-05-06T14:40:46.286159Z"
    }
   },
   "cell_type": "code",
   "source": [
    "orig = df_flows.loc[[\"2015-04-02 00:00\",\"2015-04-02 00:01\"],\"MH3295504178.1\"]\n",
    "xp = df_flows.loc[[\"2015-04-02 00:00\",\"2015-04-02 00:01\"],\"MH3295504178.1\"].index\n",
    "fp = df_flows.loc[[\"2015-04-02 00:00\",\"2015-04-02 00:01\"],\"MH3295504178.1\"].values\n",
    "x = pd.to_datetime(\"2015-04-02 00:00:30\")\n",
    "print(fp[0], np.interp(x.value / 1e9, xp.astype(np.int64)/1e9, fp), fp[1])"
   ],
   "id": "d0215c500b30509c",
   "execution_count": 85,
   "outputs": []
  },
  {
   "metadata": {
    "ExecuteTime": {
     "end_time": "2024-05-06T14:32:45.979421Z",
     "start_time": "2024-05-06T14:32:45.962421Z"
    }
   },
   "cell_type": "code",
   "source": "[pd.to_datetime(\"2015-04-02 00:00:30\")]",
   "id": "6720d910ab1e7169",
   "execution_count": 76,
   "outputs": []
  },
  {
   "metadata": {
    "ExecuteTime": {
     "end_time": "2024-05-06T14:20:59.796250Z",
     "start_time": "2024-05-06T14:20:59.425607Z"
    }
   },
   "cell_type": "code",
   "source": [
    "columns = [\"log_time\", \"logger\", \"level\", \"sim_time\", \"variable\", \"value\"]\n",
    "df_log = pd.read_csv(r\"../helpers/application.log\", sep=\";\", skiprows=15)\n",
    "df_log.columns = columns\n",
    "# df_log[\"log_time\"] = pd.to_datetime(df_log[\"log_time\"])\n",
    "df_pile_size = df_log.loc[df_log[\"variable\"]==\"pile size\", [\"sim_time\", \"value\"]]\n",
    "df_pile_size[\"sim_time\"] = pd.to_datetime(df_pile_size[\"sim_time\"])\n",
    "\n",
    "fig, ax = plt.subplots()\n",
    "df_pile_size.set_index(\"sim_time\").plot(ax=ax)\n",
    "ax.set_xlim([df_flows.index[0], df_flows.index[-1]])"
   ],
   "id": "351cbb964cb0a920",
   "execution_count": 55,
   "outputs": []
  },
  {
   "metadata": {},
   "cell_type": "code",
   "execution_count": null,
   "source": "",
   "id": "1ea61e432d67769d",
   "outputs": []
  },
  {
   "metadata": {
    "ExecuteTime": {
     "end_time": "2024-05-04T08:02:54.406548Z",
     "start_time": "2024-05-04T08:02:54.392543Z"
    }
   },
   "cell_type": "code",
   "source": "df_flows.index[-1]",
   "id": "fff9624edd3482d4",
   "execution_count": 42,
   "outputs": []
  },
  {
   "metadata": {},
   "cell_type": "code",
   "execution_count": null,
   "source": "",
   "id": "6f28d78378fa2c9f",
   "outputs": []
  }
 ],
 "metadata": {
  "kernelspec": {
   "display_name": "Python 3",
   "language": "python",
   "name": "python3"
  },
  "language_info": {
   "codemirror_mode": {
    "name": "ipython",
    "version": 2
   },
   "file_extension": ".py",
   "mimetype": "text/x-python",
   "name": "python",
   "nbconvert_exporter": "python",
   "pygments_lexer": "ipython2",
   "version": "2.7.6"
  }
 },
 "nbformat": 4,
 "nbformat_minor": 5
}
