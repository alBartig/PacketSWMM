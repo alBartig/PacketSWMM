{
 "cells": [
  {
   "cell_type": "code",
   "id": "initial_id",
   "metadata": {
    "collapsed": true,
    "ExecuteTime": {
     "end_time": "2024-06-23T12:34:41.847970800Z",
     "start_time": "2024-06-23T12:34:37.238632900Z"
    }
   },
   "source": [
    "from helpers.log_config import setup_logging\n",
    "setup_logging()\n",
    "\n",
    "import numpy as np\n",
    "import pandas as pd\n",
    "from swmm_api.output_file.extract import SwmmOutExtractWarning\n",
    "import warnings\n",
    "import matplotlib.pyplot as plt\n",
    "from src.swmmRouting.routing import Router\n",
    "from src.swmmRouting.seeding import Seeder\n",
    "\n",
    "warnings.filterwarnings(\"ignore\", category=SwmmOutExtractWarning)"
   ],
   "execution_count": 1,
   "outputs": []
  },
  {
   "metadata": {},
   "cell_type": "markdown",
   "source": [
    "# Input Data\n",
    "## Input files\n",
    "please insert model- and output-paths here"
   ],
   "id": "81bbdbb6716eac0c"
  },
  {
   "metadata": {
    "ExecuteTime": {
     "end_time": "2024-06-23T13:00:20.952516400Z",
     "start_time": "2024-06-23T13:00:20.944177800Z"
    }
   },
   "cell_type": "code",
   "source": [
    "# model input and output files\n",
    "model_path = r\"..\\sample_data\\sample_model.inp\"\n",
    "out_path = r\"..\\sample_data\\sample_model.out\"\n",
    "# population data\n",
    "pop_path = r\"../sample_data/pop_data.csv\"\n",
    "df_population = pd.read_csv(pop_path)"
   ],
   "id": "848406780e2ce197",
   "execution_count": 15,
   "outputs": []
  },
  {
   "metadata": {},
   "cell_type": "markdown",
   "source": [
    "## Input patterns\n",
    "define the defecation pattern / how many flushes containing wipes per hour are usually done\n",
    "and define how many wipes are usually flushed per event"
   ],
   "id": "31f800d04f7f1d9d"
  },
  {
   "metadata": {
    "ExecuteTime": {
     "end_time": "2024-06-23T12:34:41.957904300Z",
     "start_time": "2024-06-23T12:34:41.879377700Z"
    }
   },
   "cell_type": "code",
   "source": [
    "# pattern for distribution of defecation events, total sum of 1.5 defecations per day\n",
    "df_defpat = pd.Series(1.5 * np.array([1.4, 0.3, 0.1, 0.0, 0.3, 1.7, 9.1, 21, 13, 9, 6.9, 4.9,\n",
    "                                     1.9, 3.6, 2.5, 2, 2.9, 2.3, 4.1, 4.0, 2.7, 2.1, 2.2, 2.0])/100)\n",
    "# number of wipes sent per flush\n",
    "wipes_per_flush = 5"
   ],
   "id": "dbe8c724e8dc9e13",
   "execution_count": 3,
   "outputs": []
  },
  {
   "metadata": {},
   "cell_type": "markdown",
   "source": [
    "## Snagging function\n",
    "define the function that determines with what probability a packet snags depending on the velocity in the pipe"
   ],
   "id": "b3e3ba72528e6152"
  },
  {
   "metadata": {
    "ExecuteTime": {
     "end_time": "2024-06-23T12:34:41.957904300Z",
     "start_time": "2024-06-23T12:34:41.893510800Z"
    }
   },
   "cell_type": "code",
   "source": [
    "probability_by_velocity = lambda v: 0.1"
   ],
   "id": "ddc8fc80ddc97207",
   "execution_count": 4,
   "outputs": []
  },
  {
   "metadata": {},
   "cell_type": "markdown",
   "source": [
    "## Blocking function\n",
    "Define the blockage / opening of conduit depending on pile size\n",
    "\n",
    "create a function that returns the target setting of a conduit depending on the number of snagged wipes "
   ],
   "id": "495ade91d63ff1a6"
  },
  {
   "metadata": {
    "ExecuteTime": {
     "end_time": "2024-06-23T12:34:42.020790100Z",
     "start_time": "2024-06-23T12:34:41.911032800Z"
    }
   },
   "cell_type": "code",
   "source": [
    "blockage_from_pile = lambda pile: (pile / (2+pile))"
   ],
   "id": "e559d8456590d249",
   "execution_count": 5,
   "outputs": []
  },
  {
   "metadata": {},
   "cell_type": "markdown",
   "source": [
    "## Simulation settings\n",
    "define the node of interest at which snagging occurs\n",
    "define the decay rate of the pile\n",
    "define how often the simulation should be updated with the next pile size and blockage setting"
   ],
   "id": "24048693f63ce76b"
  },
  {
   "metadata": {
    "ExecuteTime": {
     "end_time": "2024-06-23T13:07:01.649865Z",
     "start_time": "2024-06-23T13:07:01.623082Z"
    }
   },
   "cell_type": "code",
   "source": [
    "target_node = \"MH3329503824\",\n",
    "decay_rate = lambda flow, pile, hour: 0.1\n",
    "pile_decay_rate = decay_rate,  # 1/hr\n",
    "update_freq = \"10H\""
   ],
   "id": "f9aee15ccb0759fe",
   "execution_count": 24,
   "outputs": []
  },
  {
   "metadata": {},
   "cell_type": "markdown",
   "source": [
    "# Runner\n",
    "This cell runs the model, interrupts in defined intervals, reads output data and adapts the model parameters"
   ],
   "id": "915c243d43dfbb6f"
  },
  {
   "metadata": {
    "ExecuteTime": {
     "end_time": "2024-05-03T14:01:35.923006Z",
     "start_time": "2024-05-03T14:01:35.915975Z"
    }
   },
   "cell_type": "code",
   "source": [
    "# combines all information into a dict to pass as an argument\n",
    "simulation_dict = dict(\n",
    "    model_path=model_path,\n",
    "    out_path=out_path,\n",
    "    pop_path=pop_path,\n",
    "    defpat=df_defpat,\n",
    "    wipes_per_flush=wipes_per_flush,\n",
    "    probability_by_velocity=probability_by_velocity,\n",
    "    blockage_from_pile=blockage_from_pile,\n",
    "    target_node = \"MH3295504178\",\n",
    "    pile_decay_rate = 0.1,  # 1/hr\n",
    "    update_freq = \"10H\"\n",
    ")"
   ],
   "id": "49d8b8a006e382fa",
   "execution_count": 8,
   "outputs": []
  },
  {
   "cell_type": "markdown",
   "source": [
    "## prepare seeder"
   ],
   "metadata": {
    "collapsed": false
   },
   "id": "cf7069aa28680ad6"
  },
  {
   "metadata": {
    "ExecuteTime": {
     "end_time": "2024-06-23T12:51:34.886634600Z",
     "start_time": "2024-06-23T12:51:34.761139700Z"
    }
   },
   "cell_type": "code",
   "source": [
    "# run blockage simulation\n",
    "seeder = Seeder(df_seeding_population=df_population, hourly_probability=df_defpat)\n",
    "\n",
    "seed_table = seeder.generate_seeds(start=pd.to_datetime(\"01.04.2015 00:00\"),\n",
    "                                   end=pd.to_datetime(\"01.06.2015 00:00\"))"
   ],
   "id": "438a67150a96c779",
   "execution_count": 13,
   "outputs": []
  },
  {
   "cell_type": "markdown",
   "source": [
    "## prepare router"
   ],
   "metadata": {
    "collapsed": false
   },
   "id": "bbaa7c0c3bd2139a"
  },
  {
   "cell_type": "code",
   "execution_count": 18,
   "outputs": [],
   "source": [
    "router = Router()\n",
    "router.get_network_from_inpfile(model_path)\n",
    "router.get_flows_from_outfile(path_out=out_path,\n",
    "                              start=pd.to_datetime(\"01.04.2015 00:00\"),\n",
    "                              end=pd.to_datetime(\"01.06.2015 00:00\"))"
   ],
   "metadata": {
    "collapsed": false,
    "ExecuteTime": {
     "end_time": "2024-06-23T13:00:43.245229700Z",
     "start_time": "2024-06-23T13:00:42.255569900Z"
    }
   },
   "id": "8332a0a101a39783"
  },
  {
   "cell_type": "markdown",
   "source": [
    "## route packages"
   ],
   "metadata": {
    "collapsed": false
   },
   "id": "eed3ca287ed137c"
  },
  {
   "cell_type": "code",
   "execution_count": 46,
   "outputs": [
    {
     "data": {
      "text/plain": "Empty DataFrame\nColumns: [JP3314102514, JP3335503420, JP3345803001, MH3308002676, MH3313502815, MH3313903246, MH3314603043, MH3316903340, MH3320502421, MH3323503756, MH3331602599, MH3334302596, MH3339002587, MH3340204006, MH3345702641, MH3350103901, MH3351703760, MH3352103512, MH3353602729, MH3355003689, MH3355903334, MH3359002667, MH3359302909, MH3360102927, MH3361003502, MH3362702827, MH3365103091, MH3366502937, MH3367302882, MH3367403299, MH3367803179, MH3367803555, MH3374903299, MH3378302846, MH3380503144, MH3384503599, MH3322203122, MH3328003307, MH3326102617, MH3330302508, MH3349903705, MH3347203045, MH3361702802, MH3358103404, MH3372602865, MH3374103258, MH3381803513, MH3331903433, MH3315202553, MH3377303378, MH3318002642, MH3375803410, MH3320702732, MH3361503519, MH3322402788, MH3323502822, MH3326202911, MH3328403003, MH3331103095, MH3333803185, MH3336503275, MH3339203364, MH3341803453, MH3344503535, MH3347403622, MH3339903679, MH3341403729, MH3329503824]\nIndex: []\n\n[0 rows x 68 columns]",
      "text/html": "<div>\n<style scoped>\n    .dataframe tbody tr th:only-of-type {\n        vertical-align: middle;\n    }\n\n    .dataframe tbody tr th {\n        vertical-align: top;\n    }\n\n    .dataframe thead th {\n        text-align: right;\n    }\n</style>\n<table border=\"1\" class=\"dataframe\">\n  <thead>\n    <tr style=\"text-align: right;\">\n      <th></th>\n      <th>JP3314102514</th>\n      <th>JP3335503420</th>\n      <th>JP3345803001</th>\n      <th>MH3308002676</th>\n      <th>MH3313502815</th>\n      <th>MH3313903246</th>\n      <th>MH3314603043</th>\n      <th>MH3316903340</th>\n      <th>MH3320502421</th>\n      <th>MH3323503756</th>\n      <th>...</th>\n      <th>MH3331103095</th>\n      <th>MH3333803185</th>\n      <th>MH3336503275</th>\n      <th>MH3339203364</th>\n      <th>MH3341803453</th>\n      <th>MH3344503535</th>\n      <th>MH3347403622</th>\n      <th>MH3339903679</th>\n      <th>MH3341403729</th>\n      <th>MH3329503824</th>\n    </tr>\n  </thead>\n  <tbody>\n  </tbody>\n</table>\n<p>0 rows × 68 columns</p>\n</div>"
     },
     "execution_count": 46,
     "metadata": {},
     "output_type": "execute_result"
    }
   ],
   "source": [
    "router.generate_empty_routingtable(target=target_node)\n",
    "\n",
    "\n",
    "# target_node in router.g_network.nodes\n",
    "# target_node = \"MH3329503824\"\n",
    "# target_node in router.g_network.nodes"
   ],
   "metadata": {
    "collapsed": false,
    "ExecuteTime": {
     "end_time": "2024-06-23T13:17:46.508153600Z",
     "start_time": "2024-06-23T13:17:46.445721100Z"
    }
   },
   "id": "4b70cc1defbe1588"
  },
  {
   "metadata": {},
   "cell_type": "markdown",
   "source": [
    "# Evaluation"
   ],
   "id": "c8b9d5553651efc4"
  },
  {
   "metadata": {
    "ExecuteTime": {
     "end_time": "2024-05-03T14:01:36.413659Z",
     "start_time": "2024-05-03T14:01:36.399654Z"
    }
   },
   "cell_type": "code",
   "source": [
    "from swmm_api import read_out_file\n",
    "from swmm_api.output_file import VARIABLES as swmm_vars\n",
    "from swmm_api.output_file import OBJECTS as swmm_objs"
   ],
   "id": "23bf0619e08dffe6",
   "execution_count": 10,
   "outputs": []
  },
  {
   "metadata": {},
   "cell_type": "markdown",
   "source": [
    "## get pile size over time"
   ],
   "id": "9b5008e02085930f"
  },
  {
   "metadata": {
    "ExecuteTime": {
     "end_time": "2024-05-06T15:06:17.007520Z",
     "start_time": "2024-05-06T15:06:16.984513Z"
    }
   },
   "cell_type": "code",
   "source": [
    "out = read_out_file(out_path)\n",
    "df_flows = out.get_part(kind=swmm_objs.LINK, variable=swmm_vars.LINK.FLOW)\n",
    "df_velocities = out.get_part(kind=swmm_objs.LINK, variable=swmm_vars.LINK.VELOCITY)"
   ],
   "id": "2e006932d73d70ce",
   "execution_count": 104,
   "outputs": []
  },
  {
   "metadata": {
    "ExecuteTime": {
     "end_time": "2024-05-06T15:06:17.668282Z",
     "start_time": "2024-05-06T15:06:17.431776Z"
    }
   },
   "cell_type": "code",
   "source": [
    "fig, ax = plt.subplots()\n",
    "df_flows[\"MH3295504178.1\"].plot(label=\"flow rate\", ax=ax)\n",
    "ax.set_ylabel(\"flow rate [L/s]\")\n",
    "# ax2 = ax.twinx()\n",
    "# df_velocities[\"MH3295504178.1\"].plot(label=\"velocities\", ax=ax2)\n",
    "# ax2.set_ylabel(\"velocities [m/s]\")"
   ],
   "id": "5437c80fd7d2efba",
   "execution_count": 105,
   "outputs": []
  },
  {
   "metadata": {
    "ExecuteTime": {
     "end_time": "2024-05-06T14:58:57.363764Z",
     "start_time": "2024-05-06T14:58:56.835187Z"
    }
   },
   "cell_type": "code",
   "source": [
    "fig, axs = plt.subplots(ncols=2)\n",
    "df_flows.loc[\"2015-04-02 00:00\":\"2015-04-02 00:05\",\"MH3295504178.1\"].plot(marker=\"o\", ax=axs[0])\n",
    "times = pd.to_datetime([\"2015-04-02 00:00:10\", \"2015-04-02 00:01:30\", \"2015-04-02 00:02:50\", \"2015-04-02 00:03:50\"])\n",
    "flows = np.interp(times.astype(np.int64).values/1e9, df_flows[\"MH3295504178.1\"].index.astype(np.int64)/1e9, df_flows[\"MH3295504178.1\"].values)\n",
    "df_interp = pd.DataFrame(flows, index=times)\n",
    "df_interp.plot(ax=axs[1], color=\"tab:red\", marker=\"x\", markersize=20, zorder=20\n",
    "# plt.scatter(times, 9.07*np.ones([4]), color=\"tab:red\")"
   ],
   "id": "e2d4f1dc99da1f35",
   "execution_count": 103,
   "outputs": []
  },
  {
   "metadata": {},
   "cell_type": "code",
   "execution_count": null,
   "source": [],
   "id": "52f3477362d330a2",
   "outputs": []
  },
  {
   "metadata": {
    "ExecuteTime": {
     "end_time": "2024-05-06T14:40:46.297159Z",
     "start_time": "2024-05-06T14:40:46.286159Z"
    }
   },
   "cell_type": "code",
   "source": [
    "orig = df_flows.loc[[\"2015-04-02 00:00\",\"2015-04-02 00:01\"],\"MH3295504178.1\"]\n",
    "xp = df_flows.loc[[\"2015-04-02 00:00\",\"2015-04-02 00:01\"],\"MH3295504178.1\"].index\n",
    "fp = df_flows.loc[[\"2015-04-02 00:00\",\"2015-04-02 00:01\"],\"MH3295504178.1\"].values\n",
    "x = pd.to_datetime(\"2015-04-02 00:00:30\")\n",
    "print(fp[0], np.interp(x.value / 1e9, xp.astype(np.int64)/1e9, fp), fp[1])"
   ],
   "id": "d0215c500b30509c",
   "execution_count": 85,
   "outputs": []
  },
  {
   "metadata": {
    "ExecuteTime": {
     "end_time": "2024-05-06T14:32:45.979421Z",
     "start_time": "2024-05-06T14:32:45.962421Z"
    }
   },
   "cell_type": "code",
   "source": [
    "[pd.to_datetime(\"2015-04-02 00:00:30\")]"
   ],
   "id": "6720d910ab1e7169",
   "execution_count": 76,
   "outputs": []
  },
  {
   "metadata": {
    "ExecuteTime": {
     "end_time": "2024-05-06T14:20:59.796250Z",
     "start_time": "2024-05-06T14:20:59.425607Z"
    }
   },
   "cell_type": "code",
   "source": [
    "columns = [\"log_time\", \"logger\", \"level\", \"sim_time\", \"variable\", \"value\"]\n",
    "df_log = pd.read_csv(r\"../helpers/application.log\", sep=\";\", skiprows=15)\n",
    "df_log.columns = columns\n",
    "# df_log[\"log_time\"] = pd.to_datetime(df_log[\"log_time\"])\n",
    "df_pile_size = df_log.loc[df_log[\"variable\"]==\"pile size\", [\"sim_time\", \"value\"]]\n",
    "df_pile_size[\"sim_time\"] = pd.to_datetime(df_pile_size[\"sim_time\"])\n",
    "\n",
    "fig, ax = plt.subplots()\n",
    "df_pile_size.set_index(\"sim_time\").plot(ax=ax)\n",
    "ax.set_xlim([df_flows.index[0], df_flows.index[-1]])"
   ],
   "id": "351cbb964cb0a920",
   "execution_count": 55,
   "outputs": []
  },
  {
   "metadata": {},
   "cell_type": "code",
   "execution_count": null,
   "source": [],
   "id": "1ea61e432d67769d",
   "outputs": []
  },
  {
   "metadata": {
    "ExecuteTime": {
     "end_time": "2024-05-04T08:02:54.406548Z",
     "start_time": "2024-05-04T08:02:54.392543Z"
    }
   },
   "cell_type": "code",
   "source": [
    "df_flows.index[-1]"
   ],
   "id": "fff9624edd3482d4",
   "execution_count": 42,
   "outputs": []
  },
  {
   "metadata": {},
   "cell_type": "code",
   "execution_count": null,
   "source": [],
   "id": "6f28d78378fa2c9f",
   "outputs": []
  }
 ],
 "metadata": {
  "kernelspec": {
   "display_name": "Python 3",
   "language": "python",
   "name": "python3"
  },
  "language_info": {
   "codemirror_mode": {
    "name": "ipython",
    "version": 2
   },
   "file_extension": ".py",
   "mimetype": "text/x-python",
   "name": "python",
   "nbconvert_exporter": "python",
   "pygments_lexer": "ipython2",
   "version": "2.7.6"
  }
 },
 "nbformat": 4,
 "nbformat_minor": 5
}
