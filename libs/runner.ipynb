{
 "cells": [
  {
   "cell_type": "code",
   "id": "initial_id",
   "metadata": {
    "collapsed": true,
    "ExecuteTime": {
     "end_time": "2024-04-10T13:29:46.016839Z",
     "start_time": "2024-04-10T13:29:46.001807Z"
    }
   },
   "source": [
    "import numpy as np\n",
    "from pyswmm import Simulation, Nodes, Links\n",
    "import pandas as pd\n",
    "from swmm_api import read_inp_file, read_out_file\n",
    "from swmm_api.output_file.extract import SwmmOutExtractWarning\n",
    "from routing import Router, approximate_value\n",
    "from tqdm.auto import tqdm\n",
    "import random\n",
    "import warnings\n",
    "from wipes import get_snagging_function, process_pile\n",
    "\n",
    "warnings.filterwarnings(\"ignore\", category=SwmmOutExtractWarning)"
   ],
   "outputs": [],
   "execution_count": 33
  },
  {
   "metadata": {},
   "cell_type": "markdown",
   "source": [
    "## Input Data\n",
    "please insert model- and output-paths here"
   ],
   "id": "81bbdbb6716eac0c"
  },
  {
   "metadata": {
    "ExecuteTime": {
     "end_time": "2024-04-10T11:43:13.718928Z",
     "start_time": "2024-04-10T11:43:13.704930Z"
    }
   },
   "cell_type": "code",
   "source": [
    "model_path = r\"C:\\Users\\albert\\PycharmProjects\\PacketSWMM\\sample_data\\sample_model.inp\"\n",
    "out_path = r\"C:\\Users\\albert\\PycharmProjects\\PacketSWMM\\sample_data\\sample_model.out\""
   ],
   "id": "848406780e2ce197",
   "outputs": [],
   "execution_count": 2
  },
  {
   "metadata": {},
   "cell_type": "markdown",
   "source": [
    "# Snagging function\n",
    "define the function that determines with what probability a packet snaggs"
   ],
   "id": "b3e3ba72528e6152"
  },
  {
   "metadata": {
    "ExecuteTime": {
     "end_time": "2024-04-10T13:16:20.913700Z",
     "start_time": "2024-04-10T13:16:20.904695Z"
    }
   },
   "cell_type": "code",
   "source": "probability_by_velocity = lambda v: 0.5",
   "id": "ddc8fc80ddc97207",
   "outputs": [],
   "execution_count": 25
  },
  {
   "metadata": {},
   "cell_type": "markdown",
   "source": [
    "# Blocking function\n",
    "Define the blockage / opening of conduit depending on pile size"
   ],
   "id": "495ade91d63ff1a6"
  },
  {
   "metadata": {
    "ExecuteTime": {
     "end_time": "2024-04-10T14:58:51.813475Z",
     "start_time": "2024-04-10T14:58:51.794464Z"
    }
   },
   "cell_type": "code",
   "source": "blockage_from_pile = lambda pile: pile / (20+pile)",
   "id": "e559d8456590d249",
   "outputs": [],
   "execution_count": 53
  },
  {
   "metadata": {},
   "cell_type": "markdown",
   "source": [
    "# Runner\n",
    "This cell runs the model, interrupts in defined intervals, reads output data and adapts the model parameters"
   ],
   "id": "915c243d43dfbb6f"
  },
  {
   "metadata": {
    "ExecuteTime": {
     "end_time": "2024-04-10T11:44:22.979750Z",
     "start_time": "2024-04-10T11:43:47.107919Z"
    }
   },
   "cell_type": "code",
   "source": [
    "target_node =\"MH3293004253\"\n",
    "pile_decay_rate = 0.1  # 1/hr\n",
    "update_freq = \"10H\"\n",
    "update_time = pd.to_timedelta(update_freq)\n",
    "\n",
    "router = Router()\n",
    "router.get_network_from_inpfile(model_path)\n",
    "succ_node = router.g_network.successors(target_node)\n",
    "target_link = router.g_network.edges[succ_node, succ_node][\"name\"]\n",
    "rtable = router.route_table(target=target_node)\n",
    "pile = 0\n",
    "\n",
    "with Simulation(model_path) as sim:\n",
    "    updates = pd.date_range(sim.start_time, sim.end_time, freq=update_freq)\n",
    "    previous_time = sim.start_time\n",
    "    super_previous_time = sim.start_time\n",
    "    link_blockage = Links(sim)[target_link]\n",
    "    \n",
    "    for step in tqdm(sim):\n",
    "        if sim.current_time in updates:\n",
    "            # get new flows\n",
    "            router.get_flows_from_outfile(out_path, super_previous_time, sim.current_time)\n",
    "            # create snagging function\n",
    "            snag = get_snagging_function(probability_by_velocity, flows=router.df_flows[target_node]) \n",
    "            \n",
    "            # prepare and route routing table\n",
    "            rtable = router.from_old_routingtable(rtable)\n",
    "            df_packages = router.generate_packets(previous_time, sim.current_time)\n",
    "            rtable = pd.concat([rtable, df_packages], axis=0)\n",
    "            rtable = router.route_table(rtable)\n",
    "            # extract arrivals at target node\n",
    "            new_arrivals = rtable[target_node].dropna().sort_values()\n",
    "            # process new arrivals at target node\n",
    "            pile = process_pile(new_arrivals, pile, previous_time, sim.current_time, pile_decay_rate, snag)\n",
    "            link_blockage.target_setting = blockage_from_pile(pile)\n",
    "            \n",
    "            # prepare next update\n",
    "            super_previous_time = previous_time\n",
    "            previous_time = sim.current_time\n",
    "            pass\n",
    "        pass"
   ],
   "id": "63e05e4134c619f9",
   "outputs": [
    {
     "data": {
      "text/plain": [
       "0it [00:00, ?it/s]"
      ],
      "application/vnd.jupyter.widget-view+json": {
       "version_major": 2,
       "version_minor": 0,
       "model_id": "6e9b440b07ce402b84998e813dee54fb"
      }
     },
     "metadata": {},
     "output_type": "display_data"
    }
   ],
   "execution_count": 9
  }
 ],
 "metadata": {
  "kernelspec": {
   "display_name": "Python 3",
   "language": "python",
   "name": "python3"
  },
  "language_info": {
   "codemirror_mode": {
    "name": "ipython",
    "version": 2
   },
   "file_extension": ".py",
   "mimetype": "text/x-python",
   "name": "python",
   "nbconvert_exporter": "python",
   "pygments_lexer": "ipython2",
   "version": "2.7.6"
  }
 },
 "nbformat": 4,
 "nbformat_minor": 5
}
